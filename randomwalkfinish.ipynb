{
  "nbformat": 4,
  "nbformat_minor": 0,
  "metadata": {
    "colab": {
      "name": "randomwalkfinish.ipynb",
      "provenance": [],
      "authorship_tag": "ABX9TyOlU5QgbsEHLQ1Jcm1c6d9W",
      "include_colab_link": true
    },
    "kernelspec": {
      "name": "python3",
      "display_name": "Python 3"
    }
  },
  "cells": [
    {
      "cell_type": "markdown",
      "metadata": {
        "id": "view-in-github",
        "colab_type": "text"
      },
      "source": [
        "<a href=\"https://colab.research.google.com/github/brkent/raspberrypi/blob/main/randomwalkfinish.ipynb\" target=\"_parent\"><img src=\"https://colab.research.google.com/assets/colab-badge.svg\" alt=\"Open In Colab\"/></a>"
      ]
    },
    {
      "cell_type": "code",
      "metadata": {
        "id": "nmQ-DKh1SMAl",
        "colab_type": "code",
        "colab": {
          "base_uri": "https://localhost:8080/",
          "height": 483
        },
        "outputId": "11058653-fe1f-4b25-bbac-ff18abaacd5b"
      },
      "source": [
        "import numpy as np\n",
        "import matplotlib.pyplot as plt\n",
        "import random\n",
        "import math\n",
        "\n",
        "\"\"\"\n",
        "Science and Computing with Raspberry Pi\n",
        "Brian R. Kent\n",
        "\"\"\"\n",
        "\n",
        "def randomWalk2D(length):\n",
        "    x,y = 0,0\n",
        "    walkx,walky = [x],[y]\n",
        "    for i in range(length):\n",
        "        new = random.randint(1, 4)\n",
        "        if new == 1:\n",
        "            x += 1\n",
        "        elif new == 2:\n",
        "            y += 1\n",
        "        elif new == 3:\n",
        "            x += -1\n",
        "        else:\n",
        "            y += -1\n",
        "        walkx.append(x)\n",
        "        walky.append(y)\n",
        "    return [walkx,walky]\n",
        "    \n",
        "\n",
        "N=1000\n",
        "finalx=[]\n",
        "finaly=[]\n",
        "Ntrials = 10000\n",
        "for i in range(Ntrials):\n",
        "    walk=randomWalk2D(N)\n",
        "    finalx.append(walk[0][-1])\n",
        "    finaly.append(walk[1][-1])\n",
        "\n",
        "dist = []\n",
        "for i in range(0,len(finalx)):\n",
        "    dist.append(math.sqrt(finalx[i]**2 + finaly[i]**2))\n",
        "\n",
        "fig = plt.figure(figsize=(8,8), facecolor='white')\n",
        "ax = fig.add_subplot(111)\n",
        "im = ax.hist2d(finalx, finaly, bins=20)\n",
        "# plt.savefig('randomwalk2Danalysis.png')\n",
        "plt.show()\n"
      ],
      "execution_count": 1,
      "outputs": [
        {
          "output_type": "display_data",
          "data": {
            "image/png": "[encoded data removed]",
            "text/plain": [
              "<Figure size 576x576 with 1 Axes>"
            ]
          },
          "metadata": {
            "tags": []
          }
        }
      ]
    }
  ]
}